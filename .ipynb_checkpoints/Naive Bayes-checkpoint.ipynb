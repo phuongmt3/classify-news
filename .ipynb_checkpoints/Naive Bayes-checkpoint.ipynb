{
 "cells": [
  {
   "cell_type": "code",
   "execution_count": 1,
   "id": "58823dae",
   "metadata": {},
   "outputs": [],
   "source": [
    "from underthesea import pos_tag\n",
    "import re\n",
    "import string\n",
    "\n",
    "dic = {}\n",
    "labels = {}\n",
    "labelWordCnt = {}"
   ]
  },
  {
   "cell_type": "code",
   "execution_count": 2,
   "id": "8d90d631",
   "metadata": {},
   "outputs": [],
   "source": [
    "def preprosTrain():\n",
    "    with open('scrapy_test/spiders/Output/labels.txt', 'r', encoding='utf-8') as f:\n",
    "        for line in f.readlines():\n",
    "            labels[line.strip()] = []\n",
    "            labelWordCnt[line.strip()] = 0\n",
    "\n",
    "    with open('scrapy_test/spiders/Output/trainSet.txt', 'r', encoding='utf-8') as f:\n",
    "        for para in f.readlines():\n",
    "            category, para = para.split('  ', 1)[0:2]\n",
    "            for s in pos_tag(para):\n",
    "                if s[1] in ('A', 'V') or re.search('^N', s[1]):\n",
    "                    w = re.sub(r'[' + string.punctuation + ']', ' ', s[0]).strip().lower()\n",
    "                    if w != '':\n",
    "                        dic[w] = dic.get(w, len(dic))\n",
    "                        for i in range(max(dic[w] - len(labels[category]) + 1, 0)):\n",
    "                            labels[category].append(0)\n",
    "                        labels[category][dic[w]] += 1\n",
    "                        labelWordCnt[category] += 1"
   ]
  },
  {
   "cell_type": "code",
   "execution_count": 3,
   "id": "317fad1f",
   "metadata": {},
   "outputs": [],
   "source": [
    "def train():\n",
    "    totalWordCnt = 0\n",
    "    for gr in labels:\n",
    "        for i in range(max(len(dic) - len(labels[gr]), 0)):\n",
    "            labels[gr].append(0)\n",
    "        for i in range(len(labels[gr])):\n",
    "            labels[gr][i] = (labels[gr][i] + 1) / (labelWordCnt[gr] + len(dic))\n",
    "        totalWordCnt += labelWordCnt[gr]\n",
    "    for gr in labels:\n",
    "        labelWordCnt[gr] = labelWordCnt[gr] / totalWordCnt"
   ]
  },
  {
   "cell_type": "code",
   "execution_count": 4,
   "id": "65047013",
   "metadata": {},
   "outputs": [],
   "source": [
    "preprosTrain()"
   ]
  },
  {
   "cell_type": "code",
   "execution_count": 5,
   "id": "e350c983",
   "metadata": {},
   "outputs": [
    {
     "data": {
      "text/plain": [
       "{'__thoi-su__': 0.14088243455739524,\n",
       " '__kinh-doanh__': 0.10053834057903986,\n",
       " '__giai-tri__': 0.08150217371196004,\n",
       " '__the-gioi__': 0.08387013227268522,\n",
       " '__giao-duc__': 0.0772953473314217,\n",
       " '__doi-song__': 0.06352418832670428,\n",
       " '__phap-luat__': 0.0276163167144575,\n",
       " '__the-thao__': 0.11321061881417076,\n",
       " '__moi-truong__': 0.0,\n",
       " '__oto-xe-may__': 0.06399778003884932,\n",
       " '__bat-dong-san__': 0.029066691332901674,\n",
       " '__ban-doc__': 0.01154749791878642,\n",
       " '__du-lich__': 0.04194246600684488,\n",
       " '__suc-khoe__': 0.06895939321061881,\n",
       " '__dan-toc-ton-giao__': 0.0,\n",
       " '__thong-tin-truyen-thong__': 0.06470446767181574,\n",
       " '__thi-truong-tieu-dung__': 0.0056387013227268525,\n",
       " '__tu-lieu__': 0.025703450189621682}"
      ]
     },
     "execution_count": 5,
     "metadata": {},
     "output_type": "execute_result"
    }
   ],
   "source": [
    "train()\n",
    "labelWordCnt"
   ]
  },
  {
   "cell_type": "code",
   "execution_count": 6,
   "id": "d963ce6e",
   "metadata": {},
   "outputs": [],
   "source": [
    "import math\n",
    "def test():\n",
    "    ans = []\n",
    "    with open('scrapy_test/spiders/Output/testSet.txt', 'r', encoding='utf-8') as f:\n",
    "        for para in f.readlines():\n",
    "            prob = {}\n",
    "            for typ in labelWordCnt:\n",
    "                if labelWordCnt[typ] == 0.0:\n",
    "                    prob[typ] = -100000000\n",
    "                else:\n",
    "                    prob[typ] = math.log(labelWordCnt[typ], 2)\n",
    "            \n",
    "            for s in pos_tag(para):\n",
    "                if s[1] in ('A', 'V') or re.search('^N', s[1]):\n",
    "                    w = re.sub(r'[' + string.punctuation + ']', ' ', s[0]).strip().lower()\n",
    "                    if w != '':\n",
    "                        if dic.get(w, -1) == -1:\n",
    "                            continue\n",
    "                        for typ in labels:\n",
    "                            prob[typ] += math.log(labels[typ][dic[w]], 2)\n",
    "            \n",
    "            prob = sorted(prob.items(), key=lambda x:x[1], reverse=True)[0:2]\n",
    "            ans.append([prob[0][0], prob[1][0]])\n",
    "    \n",
    "    with open('scrapy_test/spiders/Output/testAns.txt', 'r', encoding='utf-8') as f:\n",
    "        total = 0\n",
    "        correct1 = 0\n",
    "        correct2 = 0\n",
    "        for key in f.readlines():\n",
    "            if total == len(ans):\n",
    "                break\n",
    "            if key.strip() == ans[total][0]:\n",
    "                correct1 += 1\n",
    "                correct2 += 1\n",
    "            elif key.strip() == ans[total][1]:\n",
    "                correct2 += 1\n",
    "            total += 1\n",
    "        print(\"Accuracy with top 1 result: \", correct1 / total * 100, '%')\n",
    "        print(\"Accuracy with top 2 result: \", correct2 / total * 100, '%')"
   ]
  },
  {
   "cell_type": "code",
   "execution_count": 7,
   "id": "5f2adba1",
   "metadata": {},
   "outputs": [
    {
     "name": "stdout",
     "output_type": "stream",
     "text": [
      "Accuracy with top 1 result:  81.81818181818183 %\n",
      "Accuracy with top 2 result:  91.27272727272727 %\n"
     ]
    }
   ],
   "source": [
    "test()"
   ]
  },
  {
   "cell_type": "code",
   "execution_count": 8,
   "id": "a37207ee",
   "metadata": {},
   "outputs": [
    {
     "data": {
      "text/plain": [
       "19444"
      ]
     },
     "execution_count": 8,
     "metadata": {},
     "output_type": "execute_result"
    }
   ],
   "source": [
    "len(dic)"
   ]
  }
 ],
 "metadata": {
  "kernelspec": {
   "display_name": "Python 3 (ipykernel)",
   "language": "python",
   "name": "python3"
  },
  "language_info": {
   "codemirror_mode": {
    "name": "ipython",
    "version": 3
   },
   "file_extension": ".py",
   "mimetype": "text/x-python",
   "name": "python",
   "nbconvert_exporter": "python",
   "pygments_lexer": "ipython3",
   "version": "3.10.9"
  }
 },
 "nbformat": 4,
 "nbformat_minor": 5
}
