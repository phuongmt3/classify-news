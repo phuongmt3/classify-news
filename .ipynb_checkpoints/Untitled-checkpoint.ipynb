{
 "cells": [
  {
   "cell_type": "code",
   "execution_count": 1,
   "id": "58823dae",
   "metadata": {},
   "outputs": [],
   "source": [
    "from underthesea import pos_tag\n",
    "import re\n",
    "import string\n",
    "\n",
    "dic = {}\n",
    "labels = {}\n",
    "labelWordCnt = {}"
   ]
  },
  {
   "cell_type": "code",
   "execution_count": 2,
   "id": "8d90d631",
   "metadata": {},
   "outputs": [],
   "source": [
    "def preprosTrain():\n",
    "    with open('scrapy_test/spiders/Output/labels.txt', 'r', encoding='utf-8') as f:\n",
    "        for line in f.readlines():\n",
    "            labels[line.strip()] = []\n",
    "            labelWordCnt[line.strip()] = 0\n",
    "\n",
    "    with open('scrapy_test/spiders/Output/trainSet.txt', 'r', encoding='utf-8') as f:\n",
    "        for para in f.readlines():\n",
    "            category, para = para.split('  ', 1)[0:2]\n",
    "            for s in pos_tag(para):\n",
    "                if s[1] in ('A', 'V') or re.search('^N', s[1]):\n",
    "                    w = re.sub(r'[' + string.punctuation + ']', ' ', s[0]).strip().lower()\n",
    "                    if w != '':\n",
    "                        dic[w] = dic.get(w, len(dic))\n",
    "                        for i in range(max(dic[w] - len(labels[category]) + 1, 0)):\n",
    "                            labels[category].append(0)\n",
    "                        labels[category][dic[w]] += 1\n",
    "                        labelWordCnt[category] += 1"
   ]
  },
  {
   "cell_type": "code",
   "execution_count": 3,
   "id": "317fad1f",
   "metadata": {},
   "outputs": [],
   "source": [
    "def train():\n",
    "    totalWordCnt = 0\n",
    "    for gr in labels:\n",
    "        for i in range(max(len(dic) - len(labels[gr]), 0)):\n",
    "            labels[gr].append(0)\n",
    "        for i in range(len(labels[gr])):\n",
    "            labels[gr][i] = (labels[gr][i] + 1) / (labelWordCnt[gr] + len(dic))\n",
    "        totalWordCnt += labelWordCnt[gr]\n",
    "    for gr in labels:\n",
    "        labelWordCnt[gr] = labelWordCnt[gr] / totalWordCnt"
   ]
  },
  {
   "cell_type": "code",
   "execution_count": 4,
   "id": "65047013",
   "metadata": {},
   "outputs": [],
   "source": [
    "preprosTrain()"
   ]
  },
  {
   "cell_type": "code",
   "execution_count": 5,
   "id": "e350c983",
   "metadata": {},
   "outputs": [
    {
     "data": {
      "text/plain": [
       "{'__thoi-su__': 0.12983712956159688,\n",
       " '__kinh-doanh__': 0.15197158951751163,\n",
       " '__giai-tri__': 0.11795860886602988,\n",
       " '__the-gioi__': 0.06713813372520205,\n",
       " '__giao-duc__': 0.05127969630173892,\n",
       " '__doi-song__': 0.0337374479549351,\n",
       " '__phap-luat__': 0.02014450159196669,\n",
       " '__the-thao__': 0.12751040901298066,\n",
       " '__moi-truong__': 0.0,\n",
       " '__oto-xe-may__': 0.11474406073965222,\n",
       " '__bat-dong-san__': 0.017970854763654176,\n",
       " '__ban-doc__': 0.04674871418074945,\n",
       " '__du-lich__': 0.03141072740631888,\n",
       " '__suc-khoe__': 0.04775900073475386,\n",
       " '__dan-toc-ton-giao__': 0.0,\n",
       " '__thong-tin-truyen-thong__': 0.041789125642909625,\n",
       " '__thi-truong-tieu-dung__': 0.0}"
      ]
     },
     "execution_count": 5,
     "metadata": {},
     "output_type": "execute_result"
    }
   ],
   "source": [
    "train()\n",
    "labels\n",
    "labelWordCnt"
   ]
  },
  {
   "cell_type": "code",
   "execution_count": 34,
   "id": "d963ce6e",
   "metadata": {},
   "outputs": [],
   "source": [
    "import math\n",
    "def test():\n",
    "    with open('scrapy_test/spiders/Output/testSet.txt', 'r', encoding='utf-8') as f:\n",
    "        for para in f.readlines():\n",
    "            prob = {}\n",
    "            for typ in labelWordCnt:\n",
    "                if labelWordCnt[typ] == 0.0:\n",
    "                    prob[typ] = -100000000\n",
    "                else:\n",
    "                    prob[typ] = math.log(labelWordCnt[typ], 2)\n",
    "            \n",
    "            for s in pos_tag(para):\n",
    "                if s[1] in ('A', 'V') or re.search('^N', s[1]):\n",
    "                    w = re.sub(r'[' + string.punctuation + ']', ' ', s[0]).strip().lower()\n",
    "                    if w != '':\n",
    "                        if dic.get(w, -1) == -1:\n",
    "                            continue\n",
    "                        for typ in labels:\n",
    "                            prob[typ] += math.log(labels[typ][dic[w]], 2)\n",
    "            \n",
    "            prob = sorted(prob.items(), key=lambda x:x[1], reverse=True)[0:2]\n",
    "            print(prob)\n",
    "    # cout accuracy 1, 2"
   ]
  },
  {
   "cell_type": "code",
   "execution_count": 33,
   "id": "5f2adba1",
   "metadata": {},
   "outputs": [
    {
     "ename": "AttributeError",
     "evalue": "'list' object has no attribute 'keys'",
     "output_type": "error",
     "traceback": [
      "\u001b[1;31m---------------------------------------------------------------------------\u001b[0m",
      "\u001b[1;31mAttributeError\u001b[0m                            Traceback (most recent call last)",
      "\u001b[1;32m~\\AppData\\Local\\Temp\\ipykernel_21988\\756179265.py\u001b[0m in \u001b[0;36m<module>\u001b[1;34m\u001b[0m\n\u001b[1;32m----> 1\u001b[1;33m \u001b[0mtest\u001b[0m\u001b[1;33m(\u001b[0m\u001b[1;33m)\u001b[0m\u001b[1;33m\u001b[0m\u001b[1;33m\u001b[0m\u001b[0m\n\u001b[0m",
      "\u001b[1;32m~\\AppData\\Local\\Temp\\ipykernel_21988\\201784608.py\u001b[0m in \u001b[0;36mtest\u001b[1;34m()\u001b[0m\n\u001b[0;32m     20\u001b[0m \u001b[1;33m\u001b[0m\u001b[0m\n\u001b[0;32m     21\u001b[0m             \u001b[0mprob\u001b[0m \u001b[1;33m=\u001b[0m \u001b[0msorted\u001b[0m\u001b[1;33m(\u001b[0m\u001b[0mprob\u001b[0m\u001b[1;33m.\u001b[0m\u001b[0mitems\u001b[0m\u001b[1;33m(\u001b[0m\u001b[1;33m)\u001b[0m\u001b[1;33m,\u001b[0m \u001b[0mkey\u001b[0m\u001b[1;33m=\u001b[0m\u001b[1;32mlambda\u001b[0m \u001b[0mx\u001b[0m\u001b[1;33m:\u001b[0m\u001b[0mx\u001b[0m\u001b[1;33m[\u001b[0m\u001b[1;36m1\u001b[0m\u001b[1;33m]\u001b[0m\u001b[1;33m,\u001b[0m \u001b[0mreverse\u001b[0m\u001b[1;33m=\u001b[0m\u001b[1;32mTrue\u001b[0m\u001b[1;33m)\u001b[0m\u001b[1;33m[\u001b[0m\u001b[1;36m0\u001b[0m\u001b[1;33m:\u001b[0m\u001b[1;36m2\u001b[0m\u001b[1;33m]\u001b[0m\u001b[1;33m\u001b[0m\u001b[1;33m\u001b[0m\u001b[0m\n\u001b[1;32m---> 22\u001b[1;33m             \u001b[0mprint\u001b[0m\u001b[1;33m(\u001b[0m\u001b[0mprob\u001b[0m\u001b[1;33m.\u001b[0m\u001b[0mkeys\u001b[0m\u001b[1;33m(\u001b[0m\u001b[1;33m)\u001b[0m\u001b[1;33m)\u001b[0m\u001b[1;33m\u001b[0m\u001b[1;33m\u001b[0m\u001b[0m\n\u001b[0m",
      "\u001b[1;31mAttributeError\u001b[0m: 'list' object has no attribute 'keys'"
     ]
    }
   ],
   "source": [
    "test()"
   ]
  }
 ],
 "metadata": {
  "kernelspec": {
   "display_name": "Python 3 (ipykernel)",
   "language": "python",
   "name": "python3"
  },
  "language_info": {
   "codemirror_mode": {
    "name": "ipython",
    "version": 3
   },
   "file_extension": ".py",
   "mimetype": "text/x-python",
   "name": "python",
   "nbconvert_exporter": "python",
   "pygments_lexer": "ipython3",
   "version": "3.10.9"
  }
 },
 "nbformat": 4,
 "nbformat_minor": 5
}
