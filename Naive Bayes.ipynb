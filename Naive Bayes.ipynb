{
 "cells": [
  {
   "cell_type": "code",
   "execution_count": 1,
   "id": "58823dae",
   "metadata": {
    "tags": []
   },
   "outputs": [],
   "source": [
    "from underthesea import pos_tag\n",
    "import re\n",
    "import string\n",
    "import csv\n",
    "import pandas as pd\n",
    "import numpy as np"
   ]
  },
  {
   "cell_type": "code",
   "execution_count": 2,
   "id": "8d90d631",
   "metadata": {},
   "outputs": [],
   "source": [
    "def preprosTrain():\n",
    "    dic = {}\n",
    "    labels = {}\n",
    "    with open('scrapy_test/spiders/Output/labels.txt', 'r', encoding='utf-8') as f:\n",
    "        for line in f.readlines():\n",
    "            labels[line.strip()] = len(labels)\n",
    "            \n",
    "    '''with open('scrapy_test/spiders/Output/_trainSet.txt', 'r', encoding='utf-8') as f:\n",
    "        for para in f.readlines():\n",
    "            category, para = para.split('\\t', 1)\n",
    "            for s in pos_tag(para):\n",
    "                if s[1] in ('A', 'V') or re.search('^N', s[1]):\n",
    "                    w = re.sub(r'[' + string.punctuation + ']', ' ', s[0]).strip().lower()\n",
    "                    if w != '':\n",
    "                        if w not in dic:\n",
    "                            dic[w] = [0] * len(labels)\n",
    "                        dic[w][labels[category]] += 1'''\n",
    "                        \n",
    "    with open('train.txt', 'r', encoding='utf-8') as f:\n",
    "        for para in f.readlines():\n",
    "            category, para = para.split('\\t', 1)\n",
    "            for s in pos_tag(para):\n",
    "                if s[1] in ('A', 'V') or re.search('^N', s[1]):\n",
    "                    w = re.sub(r'[' + string.punctuation + ']', ' ', s[0]).strip().lower()\n",
    "                    if w != '':\n",
    "                        if w not in dic:\n",
    "                            dic[w] = [0] * len(labels)\n",
    "                        dic[w][labels[category]] += 1\n",
    "\n",
    "    df = pd.DataFrame(dic, index=labels.keys())\n",
    "    df.to_csv('featureVectors.csv')"
   ]
  },
  {
   "cell_type": "code",
   "execution_count": 3,
   "id": "317fad1f",
   "metadata": {},
   "outputs": [],
   "source": [
    "labelWordCnt = {}\n",
    "\n",
    "def train():\n",
    "    with open('scrapy_test/spiders/Output/labels.txt', 'r', encoding='utf-8') as f:\n",
    "        for line in f.readlines():\n",
    "            labelWordCnt[line.strip()] = 0\n",
    "    \n",
    "    global df\n",
    "    df = pd.read_csv('featureVectors.csv').set_index('Unnamed: 0')\n",
    "    \n",
    "    # chuan hoa vector theo cot\n",
    "    for w in df:\n",
    "        mx = df[w].max()\n",
    "        mn = df[w].min()\n",
    "        df[w] = (df[w] - mn) / (mx - mn)\n",
    "    \n",
    "    # tinh p(c), p(wj|c)\n",
    "    totalWordCnt = np.sum(df.sum())\n",
    "    for gr in df.index:\n",
    "        sumOfGroup = df.loc[gr].sum()\n",
    "        df.loc[gr] = (df.loc[gr] + 0.1) / (sumOfGroup + len(df.columns)/10)\n",
    "        labelWordCnt[gr] = sumOfGroup / totalWordCnt"
   ]
  },
  {
   "cell_type": "code",
   "execution_count": 4,
   "id": "65047013",
   "metadata": {
    "scrolled": true
   },
   "outputs": [],
   "source": [
    "preprosTrain()"
   ]
  },
  {
   "cell_type": "code",
   "execution_count": 5,
   "id": "d963ce6e",
   "metadata": {
    "slideshow": {
     "slide_type": "notes"
    },
    "tags": []
   },
   "outputs": [],
   "source": [
    "import math\n",
    "def test():\n",
    "    global df\n",
    "    ans = []\n",
    "    with open('test.txt', 'r', encoding='utf-8') as f:\n",
    "        for para in f.readlines():\n",
    "            prob = {}\n",
    "            for typ in labelWordCnt:\n",
    "                if labelWordCnt[typ] == 0.0:\n",
    "                    prob[typ] = -100000000\n",
    "                else:\n",
    "                    prob[typ] = math.log(labelWordCnt[typ], 2)\n",
    "            \n",
    "            for s in pos_tag(para):\n",
    "                if s[1] in ('A', 'V') or re.search('^N', s[1]):\n",
    "                    w = re.sub(r'[' + string.punctuation + ']', ' ', s[0]).strip().lower()\n",
    "                    if w != '':\n",
    "                        if w not in df:\n",
    "                            continue\n",
    "                        for typ in labelWordCnt:\n",
    "                            prob[typ] += math.log(df.loc[typ, w], 2)\n",
    "            \n",
    "            prob = sorted(prob.items(), key=lambda x:x[1], reverse=True)[0:2]\n",
    "            ans.append([prob[0][0], prob[1][0]])\n",
    "    \n",
    "    with open('testAns.txt', 'r', encoding='utf-8') as f:\n",
    "        total, correct1, correct2 = 0, 0, 0\n",
    "        for key in f.readlines():\n",
    "            if total == len(ans):\n",
    "                break\n",
    "            if key.strip() == ans[total][0]:\n",
    "                correct1 += 1\n",
    "                correct2 += 1\n",
    "            elif key.strip() == ans[total][1]:\n",
    "                correct2 += 1\n",
    "            total += 1\n",
    "        print(\"Accuracy with top 1 result: \", correct1 / total * 100, '%')\n",
    "        print(\"Accuracy with top 2 result: \", correct2 / total * 100, '%')"
   ]
  },
  {
   "cell_type": "code",
   "execution_count": 6,
   "id": "5f2adba1",
   "metadata": {},
   "outputs": [
    {
     "name": "stdout",
     "output_type": "stream",
     "text": [
      "Accuracy with top 1 result:  84.95400788436268 %\n",
      "Accuracy with top 2 result:  94.87516425755584 %\n"
     ]
    }
   ],
   "source": [
    "train()\n",
    "test()"
   ]
  }
 ],
 "metadata": {
  "kernelspec": {
   "display_name": "Python 3 (ipykernel)",
   "language": "python",
   "name": "python3"
  },
  "language_info": {
   "codemirror_mode": {
    "name": "ipython",
    "version": 3
   },
   "file_extension": ".py",
   "mimetype": "text/x-python",
   "name": "python",
   "nbconvert_exporter": "python",
   "pygments_lexer": "ipython3",
   "version": "3.10.9"
  }
 },
 "nbformat": 4,
 "nbformat_minor": 5
}
